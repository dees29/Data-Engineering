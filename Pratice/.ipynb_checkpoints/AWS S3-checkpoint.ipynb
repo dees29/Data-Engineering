{
 "cells": [
  {
   "cell_type": "code",
   "execution_count": 4,
   "metadata": {},
   "outputs": [],
   "source": [
    "import boto3"
   ]
  },
  {
   "cell_type": "code",
   "execution_count": 5,
   "metadata": {},
   "outputs": [],
   "source": [
    "try:\n",
    "    import boto3\n",
    "except Exception as e:\n",
    "    print(e)\n",
    "    \n",
    "with open(\"secret.txt\", \"r\") as f:\n",
    "    data=f.readlines()\n",
    "    AWS_ACCESS_KEY = data[0].strip(\"\\n\")\n",
    "    AWS_SECRET_KEY = data[1].strip(\"\\n\")\n",
    "    \n",
    "    \n",
    "client = boto3.client(\"s3\",\n",
    "                      aws_access_key_id = AWS_ACCESS_KEY,\n",
    "                      aws_secret_access_key = AWS_SECRET_KEY,\n",
    "                      region_name=\"ap-south-1\")"
   ]
  },
  {
   "cell_type": "code",
   "execution_count": 1,
   "metadata": {},
   "outputs": [
    {
     "data": {
      "text/plain": [
       "'9102020'"
      ]
     },
     "execution_count": 1,
     "metadata": {},
     "output_type": "execute_result"
    }
   ],
   "source": [
    "import datetime\n",
    "d = datetime.datetime.now()\n",
    "Current_Date = \"{}{}{}\".format(d.month, d.day, d.year)\n",
    "Current_Date"
   ]
  },
  {
   "cell_type": "markdown",
   "metadata": {},
   "source": [
    "CREATE BUCKET"
   ]
  },
  {
   "cell_type": "code",
   "execution_count": 6,
   "metadata": {},
   "outputs": [],
   "source": [
    "BUCKET_NAME = 'deepupillai' + '9102020'\n",
    "\n",
    "response = client.create_bucket(\n",
    "    ACL='private',\n",
    "    Bucket=BUCKET_NAME,\n",
    "    CreateBucketConfiguration={\n",
    "        'LocationConstraint': 'ap-south-1'\n",
    "    }\n",
    ")"
   ]
  },
  {
   "cell_type": "code",
   "execution_count": 7,
   "metadata": {},
   "outputs": [
    {
     "data": {
      "text/plain": [
       "{'ResponseMetadata': {'RequestId': '20302F48FA4C0AF4',\n",
       "  'HostId': '6ogcGw44zEsgQM+Y6Gn3R6Ge/lkfHDcFoyA28OVM0WzbM2fp/UhrUUMwsi9xVD3iHlmt4GgLWYM=',\n",
       "  'HTTPStatusCode': 200,\n",
       "  'HTTPHeaders': {'x-amz-id-2': '6ogcGw44zEsgQM+Y6Gn3R6Ge/lkfHDcFoyA28OVM0WzbM2fp/UhrUUMwsi9xVD3iHlmt4GgLWYM=',\n",
       "   'x-amz-request-id': '20302F48FA4C0AF4',\n",
       "   'date': 'Thu, 10 Sep 2020 01:01:50 GMT',\n",
       "   'location': 'http://deepupillai9102020.s3.amazonaws.com/',\n",
       "   'content-length': '0',\n",
       "   'server': 'AmazonS3'},\n",
       "  'RetryAttempts': 0},\n",
       " 'Location': 'http://deepupillai9102020.s3.amazonaws.com/'}"
      ]
     },
     "execution_count": 7,
     "metadata": {},
     "output_type": "execute_result"
    }
   ],
   "source": [
    "response"
   ]
  },
  {
   "cell_type": "markdown",
   "metadata": {},
   "source": [
    "DELETE BUCKET"
   ]
  },
  {
   "cell_type": "code",
   "execution_count": 9,
   "metadata": {},
   "outputs": [],
   "source": [
    "s3=boto3.resource('s3')"
   ]
  },
  {
   "cell_type": "code",
   "execution_count": 10,
   "metadata": {},
   "outputs": [
    {
     "data": {
      "text/plain": [
       "{'ResponseMetadata': {'RequestId': 'D707B95CF3FF2505',\n",
       "  'HostId': 'UFkQO5GAnLed9c5gUULnUgveNLI3q5mojtxV69lP6BN6Os44HypAtI7JqUgpK4iROJVN064xFvQ=',\n",
       "  'HTTPStatusCode': 204,\n",
       "  'HTTPHeaders': {'x-amz-id-2': 'UFkQO5GAnLed9c5gUULnUgveNLI3q5mojtxV69lP6BN6Os44HypAtI7JqUgpK4iROJVN064xFvQ=',\n",
       "   'x-amz-request-id': 'D707B95CF3FF2505',\n",
       "   'date': 'Thu, 10 Sep 2020 01:16:57 GMT',\n",
       "   'server': 'AmazonS3'},\n",
       "  'RetryAttempts': 0}}"
      ]
     },
     "execution_count": 10,
     "metadata": {},
     "output_type": "execute_result"
    }
   ],
   "source": [
    "bucket = s3.Bucket('deepupillai9102020')\n",
    "bucket.delete()"
   ]
  },
  {
   "cell_type": "markdown",
   "metadata": {},
   "source": [
    "LIST OF BUCKETS"
   ]
  },
  {
   "cell_type": "code",
   "execution_count": 11,
   "metadata": {},
   "outputs": [
    {
     "data": {
      "text/plain": [
       "['deepupillai972020', 'sparkifymusic', 'sparkifypro']"
      ]
     },
     "execution_count": 11,
     "metadata": {},
     "output_type": "execute_result"
    }
   ],
   "source": [
    "buckets = [bucket.name for bucket in s3.buckets.all()]\n",
    "buckets"
   ]
  },
  {
   "cell_type": "markdown",
   "metadata": {},
   "source": [
    "UPLOAD FILE INTO BUCKET"
   ]
  },
  {
   "cell_type": "code",
   "execution_count": 12,
   "metadata": {},
   "outputs": [
    {
     "name": "stdout",
     "output_type": "stream",
     "text": [
      ".ipynb_checkpoints\n",
      "AWS Boto3.ipynb\n",
      "AWS S3.ipynb\n",
      "Aws SNS.ipynb\n",
      "aws_reck.py\n",
      "Deepu.jpg\n",
      "face_detect.py\n",
      "image_helpers.py\n",
      "log_data.csv\n",
      "pagila\n",
      "pratice.parquet\n",
      "Reck.py.ipynb\n",
      "secret.txt\n",
      "__pycache__\n"
     ]
    }
   ],
   "source": [
    "import os\n",
    "for x in os.listdir():\n",
    "    print(x)"
   ]
  },
  {
   "cell_type": "code",
   "execution_count": null,
   "metadata": {},
   "outputs": [],
   "source": [
    "with open(\"Deepu.jpg\", \"rb\") as f:\n",
    "    data = f.read()"
   ]
  },
  {
   "cell_type": "code",
   "execution_count": 15,
   "metadata": {},
   "outputs": [
    {
     "data": {
      "text/plain": [
       "bytes"
      ]
     },
     "execution_count": 15,
     "metadata": {},
     "output_type": "execute_result"
    }
   ],
   "source": [
    "type(data)"
   ]
  },
  {
   "cell_type": "code",
   "execution_count": 16,
   "metadata": {},
   "outputs": [
    {
     "data": {
      "text/plain": [
       "67648"
      ]
     },
     "execution_count": 16,
     "metadata": {},
     "output_type": "execute_result"
    }
   ],
   "source": [
    "len(data)"
   ]
  },
  {
   "cell_type": "code",
   "execution_count": 18,
   "metadata": {},
   "outputs": [],
   "source": [
    "client = boto3.client('s3')\n",
    "\n",
    "response = client.put_object(\n",
    "    ACL = 'private',\n",
    "    Body = data,\n",
    "    Bucket = 'deepupillai972020',\n",
    "    Key = 'IMG/Deepu.jpg'\n",
    ")"
   ]
  },
  {
   "cell_type": "markdown",
   "metadata": {},
   "source": [
    "DELETE ITEMS"
   ]
  },
  {
   "cell_type": "code",
   "execution_count": 19,
   "metadata": {},
   "outputs": [
    {
     "data": {
      "text/plain": [
       "{'ResponseMetadata': {'RequestId': '4P0TAR9QES4R1J7P',\n",
       "  'HostId': 'bXSKLcw0W2cLZDhW4ea6Po8Hk9hNBsCA4ws69HQsOGdBSNso6HaaK8ns1nZdN8oT0/eyC9bJGlg=',\n",
       "  'HTTPStatusCode': 200,\n",
       "  'HTTPHeaders': {'x-amz-id-2': 'bXSKLcw0W2cLZDhW4ea6Po8Hk9hNBsCA4ws69HQsOGdBSNso6HaaK8ns1nZdN8oT0/eyC9bJGlg=',\n",
       "   'x-amz-request-id': '4P0TAR9QES4R1J7P',\n",
       "   'date': 'Thu, 10 Sep 2020 01:38:46 GMT',\n",
       "   'connection': 'close',\n",
       "   'content-type': 'application/xml',\n",
       "   'transfer-encoding': 'chunked',\n",
       "   'server': 'AmazonS3'},\n",
       "  'RetryAttempts': 0},\n",
       " 'Errors': [{'Key': 'Deepu.jpg',\n",
       "   'VersionId': 'string',\n",
       "   'Code': 'NoSuchVersion',\n",
       "   'Message': 'The specified version does not exist.'}]}"
      ]
     },
     "execution_count": 19,
     "metadata": {},
     "output_type": "execute_result"
    }
   ],
   "source": [
    "client = boto3.client('s3')\n",
    "\n",
    "response = client.delete_objects(\n",
    "    Bucket = 'deepupillai972020',\n",
    "    Delete = {\n",
    "        'Objects' : [\n",
    "            {\n",
    "                'Key':'Deepu.jpg',\n",
    "                'VersionId' : 'string'\n",
    "            },\n",
    "        ],\n",
    "        'Quiet' : True|False\n",
    "    }\n",
    ")\n",
    "\n",
    "response"
   ]
  },
  {
   "cell_type": "markdown",
   "metadata": {},
   "source": [
    "GET THE OBJECT FROM BUCKETS"
   ]
  },
  {
   "cell_type": "code",
   "execution_count": 20,
   "metadata": {},
   "outputs": [],
   "source": [
    "client = boto3.client('s3')\n",
    "\n",
    "response = client.list_objects(Bucket='deepupillai972020')"
   ]
  },
  {
   "cell_type": "code",
   "execution_count": 21,
   "metadata": {},
   "outputs": [
    {
     "data": {
      "text/plain": [
       "{'ResponseMetadata': {'RequestId': '06AEBA447F60E03B',\n",
       "  'HostId': 'LkIzkPJbdNsIpeu8II4tlYZR0XwL8gFNrToUDqsylICBsDgO3USTDOOloLWh4UowSyrK5zfmBPI=',\n",
       "  'HTTPStatusCode': 200,\n",
       "  'HTTPHeaders': {'x-amz-id-2': 'LkIzkPJbdNsIpeu8II4tlYZR0XwL8gFNrToUDqsylICBsDgO3USTDOOloLWh4UowSyrK5zfmBPI=',\n",
       "   'x-amz-request-id': '06AEBA447F60E03B',\n",
       "   'date': 'Thu, 10 Sep 2020 01:41:18 GMT',\n",
       "   'x-amz-bucket-region': 'ap-south-1',\n",
       "   'content-type': 'application/xml',\n",
       "   'transfer-encoding': 'chunked',\n",
       "   'server': 'AmazonS3'},\n",
       "  'RetryAttempts': 0},\n",
       " 'IsTruncated': False,\n",
       " 'Marker': '',\n",
       " 'Contents': [{'Key': 'Deepu.jpg',\n",
       "   'LastModified': datetime.datetime(2020, 9, 10, 1, 29, 45, tzinfo=tzutc()),\n",
       "   'ETag': '\"231ad60db3289830dcfc90a522d6d5ed\"',\n",
       "   'Size': 67648,\n",
       "   'StorageClass': 'STANDARD',\n",
       "   'Owner': {'ID': '3a30150245d289eacc1a5f8bdc843e3faa810f0da73d6440de48d4c11312f9ee'}},\n",
       "  {'Key': 'IMG/Deepu.jpg',\n",
       "   'LastModified': datetime.datetime(2020, 9, 10, 1, 30, 25, tzinfo=tzutc()),\n",
       "   'ETag': '\"231ad60db3289830dcfc90a522d6d5ed\"',\n",
       "   'Size': 67648,\n",
       "   'StorageClass': 'STANDARD',\n",
       "   'Owner': {'ID': '3a30150245d289eacc1a5f8bdc843e3faa810f0da73d6440de48d4c11312f9ee'}},\n",
       "  {'Key': 'log_data.csv',\n",
       "   'LastModified': datetime.datetime(2020, 9, 7, 15, 21, 24, tzinfo=tzutc()),\n",
       "   'ETag': '\"aabb9c2dfe4d5267a2ab22bfafef40e4\"',\n",
       "   'Size': 145923,\n",
       "   'StorageClass': 'STANDARD',\n",
       "   'Owner': {'ID': '3a30150245d289eacc1a5f8bdc843e3faa810f0da73d6440de48d4c11312f9ee'}},\n",
       "  {'Key': 'pratice.parquet',\n",
       "   'LastModified': datetime.datetime(2020, 9, 7, 15, 4, 44, tzinfo=tzutc()),\n",
       "   'ETag': '\"2f67292983870c49f4ee50330c4f7b7f\"',\n",
       "   'Size': 113629,\n",
       "   'StorageClass': 'STANDARD',\n",
       "   'Owner': {'ID': '3a30150245d289eacc1a5f8bdc843e3faa810f0da73d6440de48d4c11312f9ee'}}],\n",
       " 'Name': 'deepupillai972020',\n",
       " 'Prefix': '',\n",
       " 'MaxKeys': 1000,\n",
       " 'EncodingType': 'url'}"
      ]
     },
     "execution_count": 21,
     "metadata": {},
     "output_type": "execute_result"
    }
   ],
   "source": [
    "response"
   ]
  },
  {
   "cell_type": "code",
   "execution_count": 22,
   "metadata": {},
   "outputs": [
    {
     "data": {
      "text/plain": [
       "[{'Key': 'Deepu.jpg',\n",
       "  'LastModified': datetime.datetime(2020, 9, 10, 1, 29, 45, tzinfo=tzutc()),\n",
       "  'ETag': '\"231ad60db3289830dcfc90a522d6d5ed\"',\n",
       "  'Size': 67648,\n",
       "  'StorageClass': 'STANDARD',\n",
       "  'Owner': {'ID': '3a30150245d289eacc1a5f8bdc843e3faa810f0da73d6440de48d4c11312f9ee'}},\n",
       " {'Key': 'IMG/Deepu.jpg',\n",
       "  'LastModified': datetime.datetime(2020, 9, 10, 1, 30, 25, tzinfo=tzutc()),\n",
       "  'ETag': '\"231ad60db3289830dcfc90a522d6d5ed\"',\n",
       "  'Size': 67648,\n",
       "  'StorageClass': 'STANDARD',\n",
       "  'Owner': {'ID': '3a30150245d289eacc1a5f8bdc843e3faa810f0da73d6440de48d4c11312f9ee'}},\n",
       " {'Key': 'log_data.csv',\n",
       "  'LastModified': datetime.datetime(2020, 9, 7, 15, 21, 24, tzinfo=tzutc()),\n",
       "  'ETag': '\"aabb9c2dfe4d5267a2ab22bfafef40e4\"',\n",
       "  'Size': 145923,\n",
       "  'StorageClass': 'STANDARD',\n",
       "  'Owner': {'ID': '3a30150245d289eacc1a5f8bdc843e3faa810f0da73d6440de48d4c11312f9ee'}},\n",
       " {'Key': 'pratice.parquet',\n",
       "  'LastModified': datetime.datetime(2020, 9, 7, 15, 4, 44, tzinfo=tzutc()),\n",
       "  'ETag': '\"2f67292983870c49f4ee50330c4f7b7f\"',\n",
       "  'Size': 113629,\n",
       "  'StorageClass': 'STANDARD',\n",
       "  'Owner': {'ID': '3a30150245d289eacc1a5f8bdc843e3faa810f0da73d6440de48d4c11312f9ee'}}]"
      ]
     },
     "execution_count": 22,
     "metadata": {},
     "output_type": "execute_result"
    }
   ],
   "source": [
    "response['Contents']"
   ]
  },
  {
   "cell_type": "markdown",
   "metadata": {},
   "source": [
    "PAGINATOR OBJECT"
   ]
  },
  {
   "cell_type": "code",
   "execution_count": 24,
   "metadata": {},
   "outputs": [],
   "source": [
    "client = boto3.client('s3')\n",
    "\n",
    "paginator = client.get_paginator('list_objects_v2')\n",
    "\n",
    "pages = paginator.paginate(Bucket = 'deepupillai972020', Prefix = 'IMG/')"
   ]
  },
  {
   "cell_type": "code",
   "execution_count": 25,
   "metadata": {},
   "outputs": [
    {
     "data": {
      "text/plain": [
       "<botocore.paginate.PageIterator at 0x163f38f66c8>"
      ]
     },
     "execution_count": 25,
     "metadata": {},
     "output_type": "execute_result"
    }
   ],
   "source": [
    "pages"
   ]
  },
  {
   "cell_type": "code",
   "execution_count": 26,
   "metadata": {},
   "outputs": [],
   "source": [
    "tmp = []\n",
    "for page in pages:\n",
    "    for obj in page['Contents']:\n",
    "        tmp.append(obj['Key'])"
   ]
  },
  {
   "cell_type": "code",
   "execution_count": 27,
   "metadata": {},
   "outputs": [
    {
     "data": {
      "text/plain": [
       "['IMG/Deepu.jpg']"
      ]
     },
     "execution_count": 27,
     "metadata": {},
     "output_type": "execute_result"
    }
   ],
   "source": [
    "tmp"
   ]
  },
  {
   "cell_type": "markdown",
   "metadata": {},
   "source": [
    "GET ITEM"
   ]
  },
  {
   "cell_type": "code",
   "execution_count": 29,
   "metadata": {},
   "outputs": [],
   "source": [
    "client = boto3.client('s3')\n",
    "\n",
    "response_new = client.get_object(Bucket = 'deepupillai972020', Key = 'IMG/Deepu.jpg')"
   ]
  },
  {
   "cell_type": "code",
   "execution_count": 30,
   "metadata": {},
   "outputs": [
    {
     "data": {
      "text/plain": [
       "{'ResponseMetadata': {'RequestId': 'AF4E6C6CD605D3A9',\n",
       "  'HostId': 'uUy229snzvTl4H6WD8jEnEKDyBaZnjrt1ZoSr3IfyK5qqMN3F1BtSTxIdQ0toC24If13hN5OzJo=',\n",
       "  'HTTPStatusCode': 200,\n",
       "  'HTTPHeaders': {'x-amz-id-2': 'uUy229snzvTl4H6WD8jEnEKDyBaZnjrt1ZoSr3IfyK5qqMN3F1BtSTxIdQ0toC24If13hN5OzJo=',\n",
       "   'x-amz-request-id': 'AF4E6C6CD605D3A9',\n",
       "   'date': 'Thu, 10 Sep 2020 01:50:29 GMT',\n",
       "   'last-modified': 'Thu, 10 Sep 2020 01:30:25 GMT',\n",
       "   'etag': '\"231ad60db3289830dcfc90a522d6d5ed\"',\n",
       "   'accept-ranges': 'bytes',\n",
       "   'content-type': 'binary/octet-stream',\n",
       "   'content-length': '67648',\n",
       "   'server': 'AmazonS3'},\n",
       "  'RetryAttempts': 0},\n",
       " 'AcceptRanges': 'bytes',\n",
       " 'LastModified': datetime.datetime(2020, 9, 10, 1, 30, 25, tzinfo=tzutc()),\n",
       " 'ContentLength': 67648,\n",
       " 'ETag': '\"231ad60db3289830dcfc90a522d6d5ed\"',\n",
       " 'ContentType': 'binary/octet-stream',\n",
       " 'Metadata': {},\n",
       " 'Body': <botocore.response.StreamingBody at 0x163f373f748>}"
      ]
     },
     "execution_count": 30,
     "metadata": {},
     "output_type": "execute_result"
    }
   ],
   "source": [
    "response_new"
   ]
  },
  {
   "cell_type": "code",
   "execution_count": 31,
   "metadata": {},
   "outputs": [
    {
     "data": {
      "text/plain": [
       "<botocore.response.StreamingBody at 0x163f373f748>"
      ]
     },
     "execution_count": 31,
     "metadata": {},
     "output_type": "execute_result"
    }
   ],
   "source": [
    "response_new['Body']"
   ]
  },
  {
   "cell_type": "code",
   "execution_count": 36,
   "metadata": {},
   "outputs": [],
   "source": [
    "Data = response_new['Body'].read()"
   ]
  },
  {
   "cell_type": "code",
   "execution_count": 37,
   "metadata": {},
   "outputs": [
    {
     "data": {
      "text/plain": [
       "0"
      ]
     },
     "execution_count": 37,
     "metadata": {},
     "output_type": "execute_result"
    }
   ],
   "source": [
    "len(Data)"
   ]
  },
  {
   "cell_type": "code",
   "execution_count": 38,
   "metadata": {},
   "outputs": [
    {
     "data": {
      "text/plain": [
       "bytes"
      ]
     },
     "execution_count": 38,
     "metadata": {},
     "output_type": "execute_result"
    }
   ],
   "source": [
    "type(Data)"
   ]
  },
  {
   "cell_type": "code",
   "execution_count": 41,
   "metadata": {},
   "outputs": [],
   "source": [
    "with open('Deepu Resume.pdf', 'wb') as f:\n",
    "    f.write(Data)"
   ]
  },
  {
   "cell_type": "code",
   "execution_count": null,
   "metadata": {},
   "outputs": [],
   "source": []
  }
 ],
 "metadata": {
  "kernelspec": {
   "display_name": "Python 3",
   "language": "python",
   "name": "python3"
  },
  "language_info": {
   "codemirror_mode": {
    "name": "ipython",
    "version": 3
   },
   "file_extension": ".py",
   "mimetype": "text/x-python",
   "name": "python",
   "nbconvert_exporter": "python",
   "pygments_lexer": "ipython3",
   "version": "3.7.4"
  }
 },
 "nbformat": 4,
 "nbformat_minor": 2
}
