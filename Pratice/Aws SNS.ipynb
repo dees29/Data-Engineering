{
 "cells": [
  {
   "cell_type": "code",
   "execution_count": 2,
   "metadata": {},
   "outputs": [
    {
     "name": "stdout",
     "output_type": "stream",
     "text": [
      "{'TopicArn': 'arn:aws:sns:ap-south-1:624938411443:my-topic', 'ResponseMetadata': {'RequestId': 'fa5dfc67-af33-5a11-963c-abb66922b5e0', 'HTTPStatusCode': 200, 'HTTPHeaders': {'x-amzn-requestid': 'fa5dfc67-af33-5a11-963c-abb66922b5e0', 'content-type': 'text/xml', 'content-length': '316', 'date': 'Tue, 08 Sep 2020 17:48:00 GMT'}, 'RetryAttempts': 0}}\n"
     ]
    }
   ],
   "source": [
    "import boto3\n",
    "\n",
    "sns = boto3.client('sns')\n",
    "response = sns.create_topic(Name='my-topic')\n",
    "\n",
    "print(response)"
   ]
  },
  {
   "cell_type": "code",
   "execution_count": 3,
   "metadata": {},
   "outputs": [
    {
     "name": "stdout",
     "output_type": "stream",
     "text": [
      "Subscription List: [{'SubscriptionArn': 'arn:aws:sns:ap-south-1:624938411443:Try:832d618f-a6b4-40b9-a42a-24834b391a9f', 'Owner': '624938411443', 'Protocol': 'email', 'Endpoint': 'deepu123pillai@gmail.com', 'TopicArn': 'arn:aws:sns:ap-south-1:624938411443:Try'}]\n"
     ]
    }
   ],
   "source": [
    "import boto3\n",
    "\n",
    "# Create an SNS client\n",
    "sns = boto3.client('sns')\n",
    "\n",
    "# Call SNS to list the first 100 subscriptions for the specified topic\n",
    "response = sns.list_subscriptions_by_topic(\n",
    "    TopicArn='arn:aws:sns:ap-south-1:624938411443:Try'    \n",
    "    )\n",
    "\n",
    "# Get a list of subscriptions from the response\n",
    "#subscriptions = [subscription for subscription in response['Subscriptions']]\n",
    "subscriptions = []\n",
    "for subscription in response['Subscriptions']:\n",
    "    subscriptions.append(subscription)\n",
    "\n",
    "# Print out the subscriptions list\n",
    "print(\"Subscription List: %s\" % subscriptions)"
   ]
  },
  {
   "cell_type": "code",
   "execution_count": 7,
   "metadata": {},
   "outputs": [
    {
     "name": "stdout",
     "output_type": "stream",
     "text": [
      "Subscription List: []\n"
     ]
    }
   ],
   "source": [
    "import boto3\n",
    "\n",
    "# Create an SNS client\n",
    "sns = boto3.client('sns')\n",
    "\n",
    "# Call SNS to list the first 100 subscriptions\n",
    "response = sns.list_subscriptions()\n",
    "\n",
    "# Get a list of subscriptions from the response\n",
    "subscriptions = []\n",
    "for subscription in response['Subscriptions']:\n",
    "    subscriptions.append(subscription)\n",
    "\n",
    "# Print out the subscriptions list\n",
    "print(\"Subscription List: %s\" % subscriptions)"
   ]
  },
  {
   "cell_type": "code",
   "execution_count": 8,
   "metadata": {},
   "outputs": [
    {
     "name": "stdout",
     "output_type": "stream",
     "text": [
      "Topic List: ['arn:aws:sns:ap-south-1:624938411443:Try', 'arn:aws:sns:ap-south-1:624938411443:my-topic']\n"
     ]
    }
   ],
   "source": [
    "import boto3\n",
    "\n",
    "# Create an SNS client\n",
    "sns = boto3.client('sns')\n",
    "\n",
    "# Call SNS to list topics\n",
    "response = sns.list_topics()\n",
    "\n",
    "# Get a list of all topic ARNs from the response\n",
    "topics = [topic['TopicArn'] for topic in response['Topics']]\n",
    "\n",
    "# Print out the topic list\n",
    "print(\"Topic List: %s\" % topics)"
   ]
  },
  {
   "cell_type": "code",
   "execution_count": 13,
   "metadata": {},
   "outputs": [
    {
     "name": "stdout",
     "output_type": "stream",
     "text": [
      "{'MessageId': 'be585998-222b-5fef-8360-0e49e8496bc0', 'ResponseMetadata': {'RequestId': '3e954e9c-aab7-5314-8abd-194d60d5a73b', 'HTTPStatusCode': 200, 'HTTPHeaders': {'x-amzn-requestid': '3e954e9c-aab7-5314-8abd-194d60d5a73b', 'content-type': 'text/xml', 'content-length': '294', 'date': 'Tue, 08 Sep 2020 18:06:25 GMT'}, 'RetryAttempts': 0}}\n"
     ]
    }
   ],
   "source": [
    "import boto3\n",
    "\n",
    "# Create an SNS client\n",
    "sns = boto3.client('sns')\n",
    "\n",
    "# Send a SMS message to the specified phone number\n",
    "response = sns.publish(\n",
    "    PhoneNumber='+918879296957',\n",
    "    Message='Hello World!',    \n",
    ")\n",
    "\n",
    "# Print out the response\n",
    "print(response)"
   ]
  },
  {
   "cell_type": "code",
   "execution_count": 12,
   "metadata": {},
   "outputs": [
    {
     "name": "stdout",
     "output_type": "stream",
     "text": [
      "{'MessageId': 'db3a2668-c304-5eff-8b7f-71b90bbf1a2d', 'ResponseMetadata': {'RequestId': '9e847e27-779e-5177-9e57-29f6bf2575a5', 'HTTPStatusCode': 200, 'HTTPHeaders': {'x-amzn-requestid': '9e847e27-779e-5177-9e57-29f6bf2575a5', 'content-type': 'text/xml', 'content-length': '294', 'date': 'Tue, 08 Sep 2020 17:59:23 GMT'}, 'RetryAttempts': 0}}\n"
     ]
    }
   ],
   "source": [
    "import boto3\n",
    "\n",
    "# Create an SNS client\n",
    "sns = boto3.client('sns')\n",
    "\n",
    "# Publish a simple message to the specified SNS topic\n",
    "response = sns.publish(\n",
    "    TopicArn='arn:aws:sns:ap-south-1:624938411443:Try',    \n",
    "    Message='Hello World!',    \n",
    ")\n",
    "\n",
    "# Print out the response\n",
    "print(response)"
   ]
  },
  {
   "cell_type": "code",
   "execution_count": null,
   "metadata": {},
   "outputs": [],
   "source": []
  }
 ],
 "metadata": {
  "kernelspec": {
   "display_name": "Python 3",
   "language": "python",
   "name": "python3"
  },
  "language_info": {
   "codemirror_mode": {
    "name": "ipython",
    "version": 3
   },
   "file_extension": ".py",
   "mimetype": "text/x-python",
   "name": "python",
   "nbconvert_exporter": "python",
   "pygments_lexer": "ipython3",
   "version": "3.7.4"
  }
 },
 "nbformat": 4,
 "nbformat_minor": 2
}
